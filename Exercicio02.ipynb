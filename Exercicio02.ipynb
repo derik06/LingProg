{
 "cells": [
  {
   "cell_type": "markdown",
   "metadata": {},
   "source": [
    "### 1 - Crie um programa que recebe uma lista de números e\n",
    "- retorne o maior elemento\n",
    "- retorne a soma dos elementos\n",
    "- retorne o número de ocorrências do primeiro elemento da lista\n",
    "- retorne a média dos elementos\n",
    "- retorne o valor mais próximo da média dos elementos\n",
    "- retorne a soma dos elementos com valor negativo\n",
    "- retorne a quantidade de vizinhos iguais"
   ]
  },
  {
   "cell_type": "code",
   "execution_count": 63,
   "metadata": {},
   "outputs": [],
   "source": [
    "lista = [0, 5, -6, 1, -9, 2, 4, 0, 1, 5, 7, 3.5, 7, 7, 7]"
   ]
  },
  {
   "cell_type": "code",
   "execution_count": 65,
   "metadata": {},
   "outputs": [
    {
     "name": "stdout",
     "output_type": "stream",
     "text": [
      "Lista: [0, 5, -6, 1, -9, 2, 4, 0, 1, 5, 7, 3.5, 7, 7, 7]\n",
      "Maior número: 7\n",
      "Soma dos elementos: 34.5\n",
      "Número de ocorrências do primeiro elemento da lista: 2\n",
      "Média dos elementos: 2.3\n",
      "Número mais próximo da média de elementos: 2\n",
      "Soma dos números com valores negativos: -15\n",
      "Quantidade de vizinhos iguais: 3\n"
     ]
    }
   ],
   "source": [
    "maior_numero = max(lista)\n",
    "soma_elementos = sum(lista)\n",
    "numero_ocorrencias = lista.count(lista[0])\n",
    "media_elementos = soma_elementos/len(lista)\n",
    "\n",
    "inf = float('inf')\n",
    "mais_proximo = []\n",
    "for numero in lista:\n",
    "    if abs(numero - media_elementos) < inf:\n",
    "        mais_proximo = numero\n",
    "        inf = abs(numero - media_elementos)\n",
    "\n",
    "soma_negativos = sum([numero for numero in lista if numero < 0])\n",
    "\n",
    "vizinhos_iguais = 0\n",
    "for i in range(len(lista)):\n",
    "    if lista[i] == lista[i-1] or lista[i] == lista[i+1]:\n",
    "        vizinhos_iguais += 1\n",
    "\n",
    "print(f'Lista: {lista}\\n'\n",
    "      f'Maior número: {maior_numero}\\n'\n",
    "      f'Soma dos elementos: {soma_elementos}\\n'\n",
    "      f'Número de ocorrências do primeiro elemento da lista: {numero_ocorrencias}\\n'\n",
    "      f'Média dos elementos: {media_elementos}\\n'\n",
    "      f'Número mais próximo da média de elementos: {mais_proximo}\\n'\n",
    "      f'Soma dos números com valores negativos: {soma_negativos}\\n'\n",
    "      f'Quantidade de vizinhos iguais: {vizinhos_iguais}'\n",
    "     )"
   ]
  },
  {
   "cell_type": "markdown",
   "metadata": {},
   "source": [
    "### 2 - Faça um programa que receba duas listas e retorne True se são iguais ou False caso contrario.\n",
    "Duas listas são iguais se possuem os mesmos valores e na mesma ordem."
   ]
  },
  {
   "cell_type": "code",
   "execution_count": 73,
   "metadata": {},
   "outputs": [
    {
     "name": "stdout",
     "output_type": "stream",
     "text": [
      "False\n",
      "False\n",
      "True\n"
     ]
    }
   ],
   "source": [
    "def saoIguais(lista1, lista2):\n",
    "    if lista1 == lista2:\n",
    "        return True\n",
    "    return False\n",
    "\n",
    "lista1 = [1, 'g', 4, 5, 6, 7, 20.5]\n",
    "lista2 = [20.5, 'g', 4, 5, 6, 7, 1]\n",
    "lista3 = [1, 'g', 4, 5, 6, 7, 20.5]\n",
    "\n",
    "print(saoIguais(lista1, lista2))\n",
    "print(saoIguais(lista2, lista3))\n",
    "print(saoIguais(lista1, lista3))"
   ]
  },
  {
   "cell_type": "markdown",
   "metadata": {},
   "source": [
    "### 3 - Faça um programa que receba duas listas e retorne True se têm os mesmos elementos ou False caso contrário\n",
    "Duas listas possuem os mesmos elementos quando são compostas pelos mesmos valores, mas não obrigatoriamente na mesma ordem."
   ]
  },
  {
   "cell_type": "code",
   "execution_count": 74,
   "metadata": {},
   "outputs": [
    {
     "name": "stdout",
     "output_type": "stream",
     "text": [
      "True\n",
      "True\n",
      "True\n"
     ]
    }
   ],
   "source": [
    "def saoIguais(lista1, lista2):\n",
    "    if set(lista1) == set(lista2):\n",
    "        return True\n",
    "    return False\n",
    "\n",
    "lista1 = [1, 'g', 4, 5, 6, 7, 20.5]\n",
    "lista2 = [20.5, 'g', 4, 5, 6, 7, 1]\n",
    "lista3 = [1, 'g', 4, 5, 6, 7, 20.5]\n",
    "\n",
    "print(saoIguais(lista1, lista2))\n",
    "print(saoIguais(lista2, lista3))\n",
    "print(saoIguais(lista1, lista3))"
   ]
  },
  {
   "cell_type": "markdown",
   "metadata": {},
   "source": [
    "### 4 - Faça um programa que percorre uma lista com o seguinte formato: \n",
    "[['Brasil', 'Italia', [10, 9]], ['Brasil', 'Espanha', [5, 7]], ['Italia', 'Espanha', [7,8]]]. Essa lista indica o número de faltas que cada time fez em cada jogo. Na lista acima, no jogo entre Brasil e Itália, o Brasil fez 10 faltas e a Itália fez 9.\n",
    "O programa deve imprimir na tela:\n",
    "- o total de faltas do campeonato\n",
    "- o time que fez mais faltas\n",
    "- o time que fez menos faltas"
   ]
  },
  {
   "cell_type": "code",
   "execution_count": 77,
   "metadata": {},
   "outputs": [],
   "source": [
    "jogos = [['Brasil', 'Italia', [10, 9]], ['Brasil', 'Espanha', [5, 7]], ['Italia', 'Espanha', [7,8]]]"
   ]
  },
  {
   "cell_type": "code",
   "execution_count": 119,
   "metadata": {},
   "outputs": [
    {
     "name": "stdout",
     "output_type": "stream",
     "text": [
      "Número de faltas do campeonato: 46\n",
      "Time que fez mais faltas: Italia\n",
      "Time que fez menos faltas: Brasil\n"
     ]
    }
   ],
   "source": [
    "dict = {}\n",
    "for time1, time2, faltas in jogos:\n",
    "    dict.setdefault(time1, []).append(faltas[0])\n",
    "    dict.setdefault(time2, []).append(faltas[1])\n",
    "\n",
    "total_faltas = sum(sum(faltas) for faltas in dict.values())\n",
    "mais_faltas = max(dict)\n",
    "menos_faltas = min(dict)\n",
    "\n",
    "print(\n",
    "    f'Número de faltas do campeonato: {total_faltas}\\n'\n",
    "    f'Time que fez mais faltas: {mais_faltas}\\n'\n",
    "    f'Time que fez menos faltas: {menos_faltas}'\n",
    ")"
   ]
  },
  {
   "cell_type": "code",
   "execution_count": null,
   "metadata": {},
   "outputs": [],
   "source": []
  }
 ],
 "metadata": {
  "kernelspec": {
   "display_name": "Python 3",
   "language": "python",
   "name": "python3"
  },
  "language_info": {
   "codemirror_mode": {
    "name": "ipython",
    "version": 3
   },
   "file_extension": ".py",
   "mimetype": "text/x-python",
   "name": "python",
   "nbconvert_exporter": "python",
   "pygments_lexer": "ipython3",
   "version": "3.6.7"
  }
 },
 "nbformat": 4,
 "nbformat_minor": 2
}
