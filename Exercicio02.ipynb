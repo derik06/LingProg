{
 "cells": [
  {
   "cell_type": "markdown",
   "metadata": {},
   "source": [
    "### 1 - Crie um programa que recebe uma lista de números e\n",
    "- retorne o maior elemento\n",
    "- retorne a soma dos elementos\n",
    "- retorne o número de ocorrências do primeiro elemento da lista\n",
    "- retorne a média dos elementos\n",
    "- retorne o valor mais próximo da média dos elementos\n",
    "- retorne a soma dos elementos com valor negativo\n",
    "- retorne a quantidade de vizinhos iguais"
   ]
  },
  {
   "cell_type": "code",
   "execution_count": 63,
   "metadata": {},
   "outputs": [],
   "source": [
    "lista = [0, 5, -6, 1, -9, 2, 4, 0, 1, 5, 7, 3.5, 7, 7, 7]"
   ]
  },
  {
   "cell_type": "code",
   "execution_count": 120,
   "metadata": {},
   "outputs": [
    {
     "name": "stdout",
     "output_type": "stream",
     "text": [
      "Lista: [0, 5, -6, 1, -9, 2, 4, 0, 1, 5, 7, 3.5, 7, 7, 7]\n",
      "Maior número: 7\n",
      "Soma dos elementos: 34.5\n",
      "Número de ocorrências do primeiro elemento da lista: 2\n",
      "Média dos elementos: 2.3\n",
      "Número mais próximo da média de elementos: 2\n",
      "Soma dos números com valores negativos: -15\n",
      "Quantidade de vizinhos iguais: 3\n"
     ]
    }
   ],
   "source": [
    "\n",
    "maior_numero = max(lista)\n",
    "soma_elementos = sum(lista)\n",
    "numero_ocorrencias = lista.count(lista[0])\n",
    "media_elementos = soma_elementos/len(lista)\n",
    "\n",
    "inf = float('inf')\n",
    "for numero in lista:\n",
    "    if abs(numero - media_elementos) < inf:\n",
    "        mais_proximo = numero\n",
    "        inf = abs(numero - media_elementos)\n",
    "\n",
    "soma_negativos = sum([numero for numero in lista if numero < 0])\n",
    "\n",
    "vizinhos_iguais = 0\n",
    "for i in range(len(lista)):\n",
    "    if lista[i] == lista[i-1] or lista[i] == lista[i+1]:\n",
    "        vizinhos_iguais += 1\n",
    "\n",
    "print(f'Lista: {lista}\\n'\n",
    "      f'Maior número: {maior_numero}\\n'\n",
    "      f'Soma dos elementos: {soma_elementos}\\n'\n",
    "      f'Número de ocorrências do primeiro elemento da lista: {numero_ocorrencias}\\n'\n",
    "      f'Média dos elementos: {media_elementos}\\n'\n",
    "      f'Número mais próximo da média de elementos: {mais_proximo}\\n'\n",
    "      f'Soma dos números com valores negativos: {soma_negativos}\\n'\n",
    "      f'Quantidade de vizinhos iguais: {vizinhos_iguais}'\n",
    "     )"
   ]
  },
  {
   "cell_type": "markdown",
   "metadata": {},
   "source": [
    "### 2 - Faça um programa que receba duas listas e retorne True se são iguais ou False caso contrario.\n",
    "Duas listas são iguais se possuem os mesmos valores e na mesma ordem."
   ]
  },
  {
   "cell_type": "code",
   "execution_count": 121,
   "metadata": {},
   "outputs": [
    {
     "name": "stdout",
     "output_type": "stream",
     "text": [
      "False\n",
      "False\n",
      "True\n"
     ]
    }
   ],
   "source": [
    "def saoIguais(lista1, lista2):\n",
    "    if lista1 == lista2:\n",
    "        return True\n",
    "    return False\n",
    "\n",
    "lista1 = [1, 'g', 4, 5, 6, 7, 20.5]\n",
    "lista2 = [20.5, 'g', 4, 5, 6, 7, 1]\n",
    "lista3 = [1, 'g', 4, 5, 6, 7, 20.5]\n",
    "\n",
    "print(saoIguais(lista1, lista2))\n",
    "print(saoIguais(lista2, lista3))\n",
    "print(saoIguais(lista1, lista3))"
   ]
  },
  {
   "cell_type": "markdown",
   "metadata": {},
   "source": [
    "### 3 - Faça um programa que receba duas listas e retorne True se têm os mesmos elementos ou False caso contrário\n",
    "Duas listas possuem os mesmos elementos quando são compostas pelos mesmos valores, mas não obrigatoriamente na mesma ordem."
   ]
  },
  {
   "cell_type": "code",
   "execution_count": 122,
   "metadata": {},
   "outputs": [
    {
     "name": "stdout",
     "output_type": "stream",
     "text": [
      "True\n",
      "True\n",
      "True\n"
     ]
    }
   ],
   "source": [
    "def saoIguais(lista1, lista2):\n",
    "    if set(lista1) == set(lista2):\n",
    "        return True\n",
    "    return False\n",
    "\n",
    "lista1 = [1, 'g', 4, 5, 6, 7, 20.5]\n",
    "lista2 = [20.5, 'g', 4, 5, 6, 7, 1]\n",
    "lista3 = [1, 'g', 4, 5, 6, 7, 20.5]\n",
    "\n",
    "print(saoIguais(lista1, lista2))\n",
    "print(saoIguais(lista2, lista3))\n",
    "print(saoIguais(lista1, lista3))"
   ]
  },
  {
   "cell_type": "markdown",
   "metadata": {},
   "source": [
    "### 4 - Faça um programa que percorre uma lista com o seguinte formato: \n",
    "[['Brasil', 'Italia', [10, 9]], ['Brasil', 'Espanha', [5, 7]], ['Italia', 'Espanha', [7,8]]]. Essa lista indica o número de faltas que cada time fez em cada jogo. Na lista acima, no jogo entre Brasil e Itália, o Brasil fez 10 faltas e a Itália fez 9.\n",
    "O programa deve imprimir na tela:\n",
    "- o total de faltas do campeonato\n",
    "- o time que fez mais faltas\n",
    "- o time que fez menos faltas"
   ]
  },
  {
   "cell_type": "code",
   "execution_count": 123,
   "metadata": {},
   "outputs": [],
   "source": [
    "jogos = [['Brasil', 'Italia', [10, 9]], ['Brasil', 'Espanha', [5, 7]], ['Italia', 'Espanha', [7,8]]]"
   ]
  },
  {
   "cell_type": "code",
   "execution_count": 124,
   "metadata": {},
   "outputs": [
    {
     "name": "stdout",
     "output_type": "stream",
     "text": [
      "Número de faltas do campeonato: 46\n",
      "Time que fez mais faltas: Italia\n",
      "Time que fez menos faltas: Brasil\n"
     ]
    }
   ],
   "source": [
    "dict = {}\n",
    "for time1, time2, faltas in jogos:\n",
    "    dict.setdefault(time1, []).append(faltas[0])\n",
    "    dict.setdefault(time2, []).append(faltas[1])\n",
    "\n",
    "total_faltas = sum(sum(faltas) for faltas in dict.values())\n",
    "mais_faltas = max(dict)\n",
    "menos_faltas = min(dict)\n",
    "\n",
    "print(\n",
    "    f'Número de faltas do campeonato: {total_faltas}\\n'\n",
    "    f'Time que fez mais faltas: {mais_faltas}\\n'\n",
    "    f'Time que fez menos faltas: {menos_faltas}'\n",
    ")"
   ]
  },
  {
   "cell_type": "markdown",
   "metadata": {},
   "source": [
    "## Dicionários"
   ]
  },
  {
   "cell_type": "markdown",
   "metadata": {},
   "source": [
    "### 5 - Escreva um programa que conta a quantidade de vogais em uma string e armazena tal quantidade em um dicionário, onde a chave é a vogal considerada."
   ]
  },
  {
   "cell_type": "code",
   "execution_count": 8,
   "metadata": {},
   "outputs": [
    {
     "name": "stdout",
     "output_type": "stream",
     "text": [
      "{'a': 4, 'e': 1, 'i': 1, 'o': 1, 'u': 2}\n"
     ]
    }
   ],
   "source": [
    "string = 'aaaasdfpoiuuqer'\n",
    "vogais = {'a':0,'e':0,'i':0,'o':0,'u':0}\n",
    "for letra in string:\n",
    "    if letra.lower() in vogais.keys():\n",
    "        vogais[letra] += 1\n",
    "print(vogais)"
   ]
  },
  {
   "cell_type": "markdown",
   "metadata": {},
   "source": [
    "### 6 - Escreva um programa que lê duas notas de vários alunos e armazena tais notas em um dicionário, onde a chave é o nome do aluno. A entrada de dados deve terminar quando for lida uma string vazia como nome. Escreva uma função que retorna a média do aluno, dado seu nome."
   ]
  },
  {
   "cell_type": "code",
   "execution_count": 2,
   "metadata": {},
   "outputs": [
    {
     "name": "stdout",
     "output_type": "stream",
     "text": [
      "Nome do aluno: derik\n",
      "Insira a primeira nota: 10\n",
      "Insira a segunda nota: 4\n",
      "Nome do aluno: \n",
      "{'derik': [7.0]}\n"
     ]
    }
   ],
   "source": [
    "alunos = {}\n",
    "while 1:\n",
    "    nome_aluno = input('Nome do aluno: ')\n",
    "    if nome_aluno == '':\n",
    "        break\n",
    "    nota1 = int(input('Insira a primeira nota: '))\n",
    "    nota2 = int(input('Insira a segunda nota: '))\n",
    "    \n",
    "    alunos[nome_aluno] = [(nota1 + nota2)/2]\n",
    "\n",
    "print(alunos)"
   ]
  },
  {
   "cell_type": "markdown",
   "metadata": {},
   "source": [
    "### 7 - Uma pista de Kart permite 10 voltas para cada um de 6 corredores. Escreva um programa que leia todos os tempos em segundos e os guarde em um dicionário, onde a chave é o nome do corredor. Ao final diga de quem foi a melhor volta da prova e em que volta; e ainda a classificação final em ordem (1 o o campeão). O campeão é o que tem a menor média de tempos."
   ]
  },
  {
   "cell_type": "code",
   "execution_count": 8,
   "metadata": {},
   "outputs": [
    {
     "name": "stdout",
     "output_type": "stream",
     "text": [
      "Melhor volta: {'8': 40}\n",
      "Classificação Final:\n",
      "maria 61.5\n",
      "pedro 64.8\n",
      "marcio 71.9\n",
      "julia 71.9\n",
      "pablo 72.7\n",
      "joão 76.2\n"
     ]
    }
   ],
   "source": [
    "corredores = {\n",
    "    'joão': {'1': 54, '2': 76,'3': 43,'4': 107,'5': 93,'6': 75,'7': 70,'8': 65,'9': 90,'10': 89},\n",
    "    'pedro': {'1': 46, '2': 43,'3': 63,'4': 100,'5': 43,'6': 58,'7': 90,'8': 40,'9': 70,'10': 95},\n",
    "    'pablo': {'1': 94, '2': 85,'3': 55,'4': 86,'5': 70,'6': 79,'7': 63,'8': 47,'9': 84,'10': 64},\n",
    "    'maria': {'1': 44, '2': 43,'3': 63,'4': 67,'5': 43,'6': 55,'7': 90,'8': 42,'9': 70,'10': 98},\n",
    "    'marcio': {'1': 80, '2': 93,'3': 54,'4': 63,'5': 86,'6': 59,'7': 70,'8': 81,'9': 69,'10': 64},\n",
    "    'julia': {'1': 50, '2': 87,'3': 70,'4': 59,'5': 43,'6': 57,'7': 72,'8': 100,'9': 87,'10': 94}\n",
    "}\n",
    "\n",
    "classificacao_final = {}\n",
    "melhor_volta_geral = {'1': float(\"inf\")}\n",
    "\n",
    "for corredor, voltas in corredores.items():\n",
    "    menor_tempo = min(voltas.values())\n",
    "    melhor_volta_corredor = {volta: tempo for volta, tempo in voltas.items() if tempo == menor_tempo}\n",
    "    if next(iter(melhor_volta_corredor.values())) < next(iter(melhor_volta_geral.values())):\n",
    "        melhor_volta_geral = melhor_volta_corredor\n",
    "    media_tempos = sum(voltas.values())/len(voltas.values())\n",
    "    classificacao_final[corredor] = media_tempos\n",
    "\n",
    "print(f'Melhor volta: {melhor_volta_geral}')\n",
    "\n",
    "print(f'Classificação Final:')\n",
    "for corredor, voltas in sorted(classificacao_final.items(), key=lambda classificacao: classificacao[1]):\n",
    "    print(corredor + ' ' + str(voltas))\n"
   ]
  },
  {
   "cell_type": "markdown",
   "metadata": {},
   "source": [
    "8 - Escreva um programa para armazenar uma agenda de telefones em um dicionário.\n",
    "Cada pessoa pode ter um ou mais telefones e a chave do dicionário é o nome da\n",
    "pessoa. Seu programa deve ter as seguintes funções:\n",
    "- incluirNovoNome – essa função acrescenta um novo nome na agenda, com um ou\n",
    "mais telefones. Ela deve receber como argumentos o nome e os telefones.\n",
    "- incluirTelefone – essa função acrescenta um telefone em um nome existente na\n",
    "agenda. Caso o nome não exista na agenda, você̂ deve perguntar se a pessoa deseja\n",
    "inclui-lo. Caso a resposta seja afirmativa, use a função anterior para incluir o novo\n",
    "nome.\n",
    "- excluirTelefone – essa função exclui um telefone de uma pessoa que já está na\n",
    "agenda. Se a pessoa tiver apenas um telefone, ela deve ser excluída da agenda.\n",
    "- excluirNome – essa função exclui uma pessoa da agenda.\n",
    "- consultarTelefone – essa função retorna os telefones de uma pessoa na agenda."
   ]
  },
  {
   "cell_type": "code",
   "execution_count": 1,
   "metadata": {},
   "outputs": [
    {
     "ename": "SyntaxError",
     "evalue": "invalid syntax (<ipython-input-1-531babd8bf7d>, line 14)",
     "output_type": "error",
     "traceback": [
      "\u001b[0;36m  File \u001b[0;32m\"<ipython-input-1-531babd8bf7d>\"\u001b[0;36m, line \u001b[0;32m14\u001b[0m\n\u001b[0;31m    def incluirTelefone(nome, )\u001b[0m\n\u001b[0m                               ^\u001b[0m\n\u001b[0;31mSyntaxError\u001b[0m\u001b[0;31m:\u001b[0m invalid syntax\n"
     ]
    }
   ],
   "source": [
    "agenda = {\n",
    "    'derik': {'telefones': {'1': '99999999', '2': '88888888'}},\n",
    "    'gustavo': {'telefones': {'1': '77777777', '2': '55555555'}}\n",
    "}\n",
    "\n",
    "def incluirNovoNome(nome, telefones):\n",
    "    for count, telefone in enumerate(telefones):\n",
    "        if count == 1:\n",
    "            agenda[nome] = {'telefones': {f'{count}': telefone}}\n",
    "        else:\n",
    "            telefones = agenda.get(nome)\n",
    "            telefones[f'{count}'] = telefone\n",
    "\n",
    "def incluirTelefone(nome, telefones):\n",
    "    for count, telefone in enumerate(telefones):\n",
    "        telefones = \n",
    "\n"
   ]
  },
  {
   "cell_type": "code",
   "execution_count": null,
   "metadata": {},
   "outputs": [],
   "source": []
  }
 ],
 "metadata": {
  "kernelspec": {
   "display_name": "Python 3",
   "language": "python",
   "name": "python3"
  },
  "language_info": {
   "codemirror_mode": {
    "name": "ipython",
    "version": 3
   },
   "file_extension": ".py",
   "mimetype": "text/x-python",
   "name": "python",
   "nbconvert_exporter": "python",
   "pygments_lexer": "ipython3",
   "version": "3.6.7"
  }
 },
 "nbformat": 4,
 "nbformat_minor": 2
}
