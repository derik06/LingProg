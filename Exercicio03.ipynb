{
 "cells": [
  {
   "cell_type": "markdown",
   "metadata": {},
   "source": [
    "#### 1. Faça um Programa que peça dois números e imprima o maior deles."
   ]
  },
  {
   "cell_type": "code",
   "execution_count": 1,
   "metadata": {},
   "outputs": [
    {
     "name": "stdout",
     "output_type": "stream",
     "text": [
      "Insira um numero 1\n",
      "Insira outro numero 2\n",
      "2\n"
     ]
    }
   ],
   "source": [
    "num1 = int(input(\"Insira um numero \"))\n",
    "num2 = int(input(\"Insira outro numero \"))\n",
    "if num1 > num2:\n",
    "    print(num1)\n",
    "else:\n",
    "    print(num2)"
   ]
  },
  {
   "cell_type": "markdown",
   "metadata": {},
   "source": [
    "#### 2. Faça um Programa que verifique se uma letra digitada é vogal ou consoante."
   ]
  },
  {
   "cell_type": "code",
   "execution_count": 3,
   "metadata": {},
   "outputs": [
    {
     "name": "stdout",
     "output_type": "stream",
     "text": [
      "Insira uma letra: o\n",
      "É uma vogal\n"
     ]
    }
   ],
   "source": [
    "letra = input(\"Insira uma letra: \")\n",
    "vogal = ['a','e','i','o','u']\n",
    "\n",
    "if letra.lower() in vogal:\n",
    "    print(\"É uma vogal\")\n",
    "else:\n",
    "    print(\"É uma consoante\")"
   ]
  },
  {
   "cell_type": "markdown",
   "metadata": {},
   "source": [
    "#### 3. Faça um programa para a leitura de duas notas parciais de um aluno. O programa deve calcular a média alcançada por aluno e apresentar:\n",
    "- A mensagem \"Aprovado\", se a média alcançada for maior ou igual a sete;\n",
    "- A mensagem \"Reprovado\", se a média for menor do que sete;\n",
    "- A mensagem \"Aprovado com Distinção\", se a média for igual a dez."
   ]
  },
  {
   "cell_type": "code",
   "execution_count": 4,
   "metadata": {},
   "outputs": [
    {
     "name": "stdout",
     "output_type": "stream",
     "text": [
      "Insira a primeira nota: 10\n",
      "Insira a segunda nota: 7\n",
      "Média: 8.5\n",
      "Aprovado\n"
     ]
    }
   ],
   "source": [
    "nota1 = float(input(\"Insira a primeira nota: \"))\n",
    "nota2 = float(input(\"Insira a segunda nota: \"))\n",
    "\n",
    "media = (nota1 + nota2)/2\n",
    "print(\"Média: \" + str(media))\n",
    "\n",
    "if media == 10:\n",
    "    print(\"Aprovado com Distinção\")\n",
    "elif media >= 7:\n",
    "    print(\"Aprovado\")\n",
    "else:\n",
    "    print(\"Reprovado\")"
   ]
  },
  {
   "cell_type": "markdown",
   "metadata": {},
   "source": [
    "#### 4. Faça um Programa que leia três números e mostre-os em ordem decrescente."
   ]
  },
  {
   "cell_type": "code",
   "execution_count": 8,
   "metadata": {},
   "outputs": [
    {
     "name": "stdout",
     "output_type": "stream",
     "text": [
      "Insira o primeiro numero: 8\n",
      "Insira o segundo numero: 9\n",
      "Insira o terceiro numero: 6\n",
      "[6.0, 8.0, 9.0]\n"
     ]
    }
   ],
   "source": [
    "num1 = float(input(\"Insira o primeiro numero: \"))\n",
    "num2 = float(input(\"Insira o segundo numero: \"))\n",
    "num3 = float(input(\"Insira o terceiro numero: \"))\n",
    "numeros = [num1, num2, num3]\n",
    "numeros.sort()\n",
    "\n",
    "print(numeros)"
   ]
  },
  {
   "cell_type": "markdown",
   "metadata": {},
   "source": [
    "#### 5. As Organizações Tabajara resolveram dar um aumento de salário aos seus colaboradores e lhe contrataram para desenvolver o programa que calculará os reajustes. Faça um programa que recebe o salário de um colaborador e o reajuste segundo o seguinte critério, baseado no salário atual:\n",
    "- salários até RS 280,00 (incluindo) : aumento de 20%\n",
    "- salários entre RS 280,00 e RS 700,00 : aumento de 15%\n",
    "- salários entre RS 700,00 e RS 1500,00 : aumento de 10%\n",
    "- salários de RS 1500,00 em diante : aumento de 5% \n",
    "#### Após o aumento ser realizado informe na tela:\n",
    "- o salário antes do reajuste;\n",
    "- o percentual de aumento aplicado;\n",
    "- o valor do aumento;\n",
    "- o novo salário, após o aumento."
   ]
  },
  {
   "cell_type": "code",
   "execution_count": 2,
   "metadata": {},
   "outputs": [
    {
     "name": "stdout",
     "output_type": "stream",
     "text": [
      "Informe o salario do colaborador: R$522\n",
      "Salario antes do reajuste: R$522.0\n",
      "Percentual de aumento aplicado: 15.0%\n",
      "Valor aumentado: R$78.3\n",
      "Novo salario: R$600.3\n"
     ]
    }
   ],
   "source": [
    "salario = float(input(\"Informe o salario do colaborador: R$\"))\n",
    "reajuste = 0.00\n",
    "\n",
    "if salario <= 280.00:\n",
    "    reajuste = 0.2\n",
    "elif salario <= 700.00:\n",
    "    reajuste = 0.15\n",
    "elif salario <= 1500:\n",
    "    reajuste = 0.1\n",
    "else:\n",
    "    reajuste = 0.05\n",
    "    \n",
    "print(\"Salario antes do reajuste: R$\" + str(salario) + \"\\nPercentual de aumento aplicado: \"\\\n",
    "      + str(reajuste*100) + \"%\\nValor aumentado: R$\" + str(salario*reajuste) + \"\\nNovo salario: R$\" +\\\n",
    "      str(salario+(salario*reajuste)))"
   ]
  },
  {
   "cell_type": "markdown",
   "metadata": {},
   "source": [
    "#### 6. Faça um Programa que leia um número e exiba o dia correspondente da semana. (1-Domingo, 2- Segunda, etc.), se digitar outro valor deve aparecer valor inválido."
   ]
  },
  {
   "cell_type": "code",
   "execution_count": 9,
   "metadata": {},
   "outputs": [
    {
     "name": "stdout",
     "output_type": "stream",
     "text": [
      "Insira um numero que representa o dia da semana: 3\n",
      "Terça\n"
     ]
    }
   ],
   "source": [
    "numero_dia = int(input(\"Insira um numero que representa o dia da semana: \"))\n",
    "\n",
    "dia_semana = {\n",
    "    1: \"Domingo\",\n",
    "    2: \"Segunda\",\n",
    "    3: \"Terça\",\n",
    "    4: \"Quarta\",\n",
    "    5: \"Quinta\",\n",
    "    6: \"Sexta\",\n",
    "    7: \"Sábado\",\n",
    "    8: \"Domingo\"\n",
    "}\n",
    "\n",
    "if numero_dia in dia_semana.keys():\n",
    "    print(dia_semana.get(numero_dia))\n",
    "else:\n",
    "    print(\"Número inválido\")"
   ]
  },
  {
   "cell_type": "markdown",
   "metadata": {},
   "source": [
    "#### 7. Faça um programa que lê as duas notas parciais obtidas por um aluno numa disciplina ao longo de um semestre, e calcule a sua média. A atribuição de conceitos obedece à tabela abaixo: \n",
    "Média de Aproveitamento Conceito<br>\n",
    "Entre 9.0 e 10.0          A<br>\n",
    "Entre 7.5 e 9.0           B<br>\n",
    "Entre 6.0 e 7.5           C<br>\n",
    "Entre 4.0 e 6.0           D<br>\n",
    "Entre 4.0 e zero          E\n",
    "#### O algoritmo deve mostrar na tela as notas, a média, o conceito correspondente e a mensagem “APROVADO” se o conceito for A, B ou C ou “REPROVADO” se o conceito for D ou E."
   ]
  },
  {
   "cell_type": "code",
   "execution_count": 14,
   "metadata": {},
   "outputs": [
    {
     "name": "stdout",
     "output_type": "stream",
     "text": [
      "Insira a primeira nota: 6\n",
      "Insira a segunda nota: 6\n",
      "Nota 1: 6.0\n",
      "Nota 2: 6.0\n",
      "Conceito: C\n",
      "APROVADO\n"
     ]
    }
   ],
   "source": [
    "nota1 = float(input(\"Insira a primeira nota: \"))\n",
    "nota2 = float(input(\"Insira a segunda nota: \"))\n",
    "media = (nota1+nota2)/2\n",
    "conceito = ''\n",
    "situacao = ''\n",
    "\n",
    "if media < 4:\n",
    "    conceito = 'E'\n",
    "    situacao = \"REPROVADO\"\n",
    "elif media < 6:\n",
    "    conceito = 'D'\n",
    "    situacao = \"REPROVADO\"\n",
    "elif media < 7.5:\n",
    "    conceito = 'C'\n",
    "    situacao = \"APROVADO\"\n",
    "elif media < 9:\n",
    "    conceito = 'B'\n",
    "    situacao = \"APROVADO\"\n",
    "else:\n",
    "    conceito = 'A'\n",
    "    situacao = \"APROVADO\"\n",
    "    \n",
    "print(\"Nota 1: \" + str(nota1) + \"\\nNota 2: \" + str(nota2) + \"\\nConceito: \" + conceito + \"\\n\" + situacao)"
   ]
  },
  {
   "cell_type": "markdown",
   "metadata": {},
   "source": [
    "#### 8. Faça um Programa que peça os 3 lados de um triângulo. O programa deverá informar se os valores podem ser um triângulo. Indique, caso os lados formem um triângulo, se o mesmo é: equilátero, isósceles ou escaleno.\n",
    "Dicas:\n",
    "- Três lados formam um triângulo quando a soma de quaisquer dois lados for maior que o terceiro;\n",
    "- Triângulo Equilátero: três lados iguais;\n",
    "- Triângulo Isósceles: quaisquer dois lados iguais;\n",
    "- Triângulo Escaleno: três lados diferentes;"
   ]
  },
  {
   "cell_type": "code",
   "execution_count": 42,
   "metadata": {},
   "outputs": [
    {
     "name": "stdout",
     "output_type": "stream",
     "text": [
      "Informe um lado do triangulo: 2\n",
      "Informe outro lado do triangulo: 3\n",
      "Informe o ultimo lado do triangulo: 4\n",
      "Triangulo Escaleno\n"
     ]
    }
   ],
   "source": [
    "lado1 = float(input(\"Informe um lado do triangulo: \"))\n",
    "lado2 = float(input(\"Informe outro lado do triangulo: \"))\n",
    "lado3 = float(input(\"Informe o ultimo lado do triangulo: \"))\n",
    "\n",
    "if (lado1 + lado2) > lado3 and (lado2 + lado3) > lado1 and (lado1 + lado3) > lado2:\n",
    "    if lado1 == lado2 and lado2 == lado3:\n",
    "        print(\"Triangulo Equilatero\")\n",
    "    elif lado1 == lado2 or lado1 == lado3 or lado2 == lado3:\n",
    "        print(\"Triangulo Isosceles\")\n",
    "    else:\n",
    "        print(\"Triangulo Escaleno\")\n",
    "else:\n",
    "    print(\"Não pode ser um triangulo\")"
   ]
  },
  {
   "cell_type": "markdown",
   "metadata": {},
   "source": [
    "#### 9. Faça um programa que calcule as raízes de uma equação do segundo grau, na forma ax2 + bx + c. O programa deverá pedir os valores de a, b e c e fazer as consistências, informando ao usuário nas seguintes situações:\n",
    "- Se o usuário informar o valor de A igual a zero, a equação não é do segundo grau e o programa não deve fazer pedir os demais valores, sendo encerrado;\n",
    "- Se o delta calculado for negativo, a equação não possui raizes reais. Informe ao usuário e encerre o programa;\n",
    "- Se o delta calculado for igual a zero a equação possui apenas uma raiz real; informe-a ao usuário;\n",
    "- Se o delta for positivo, a equação possui duas raiz reais; informe-as ao usuário;"
   ]
  },
  {
   "cell_type": "code",
   "execution_count": 8,
   "metadata": {},
   "outputs": [
    {
     "name": "stdout",
     "output_type": "stream",
     "text": [
      "Equaçao do 2o grau da forma: ax² + bx + c\n",
      "Coeficiente a: 2\n",
      "Coeficiente b: 4\n",
      "Coeficiente c: 2\n",
      "Delta=0 , raiz =  -1.0\n"
     ]
    }
   ],
   "source": [
    "    import math\n",
    "    \n",
    "    print('Equaçao do 2o grau da forma: ax² + bx + c')\n",
    "    \n",
    "    a = int( input('Coeficiente a: ') )\n",
    "\n",
    "    if(a==0):\n",
    "        print('Se a=0, não é equação do segundo grau')\n",
    "    else:\n",
    "        b = int( input('Coeficiente b: ') )\n",
    "        c = int( input('Coeficiente c: ') )\n",
    "        delta = b*b - (4*a*c)\n",
    "\n",
    "        if delta<0:\n",
    "            print('Delta menor que 0. Raízes imaginárias')\n",
    "        elif delta==0:\n",
    "            raiz = -b / (2*a)\n",
    "            print('Delta=0 , raiz = ',raiz)\n",
    "        else:\n",
    "            raiz1 = (-b + math.sqrt(delta) ) / (2*a)\n",
    "            raiz2 = (-b - math.sqrt(delta) ) / (2*a)\n",
    "            print('Raizes: ',raiz1,' e ',raiz2)\n"
   ]
  },
  {
   "cell_type": "markdown",
   "metadata": {},
   "source": [
    "#### 10. Faça um Programa para um caixa eletrônico. O programa deverá perguntar ao usuário a valor do saque e depois informar quantas notas de cada valor serão fornecidas. As notas disponíveis serão as de 1, 5, 10, 50 e 100 reais. O valor mínimo é de 10 reais e o máximo de 600 reais. O programa não deve se preocupar com a quantidade de notas existentes na máquina. \n",
    "- Exemplo 1: Para sacar a quantia de 256 reais, o programa fornece duas notas de 100, uma nota de 50, uma nota de 5 e uma nota de 1;\n",
    "- Exemplo 2: Para sacar a quantia de 399 reais, o programa fornece três notas de 100, uma nota de 50, quatro notas de 10, uma nota de 5 e quatro notas de 1."
   ]
  },
  {
   "cell_type": "code",
   "execution_count": 12,
   "metadata": {},
   "outputs": [
    {
     "name": "stdout",
     "output_type": "stream",
     "text": [
      "Quanto deseja sacar? 1241\n",
      "- Valor do saque: R$ 1241\n",
      "R$ 100:  12 notas\n",
      "R$  50:   0 notas\n",
      "R$  10:   4 notas\n",
      "R$   5:   0 notas\n",
      "R$   1:   1 notas\n",
      "\n"
     ]
    }
   ],
   "source": [
    "def verifica_notas(valor):\n",
    "    valor_total = valor\n",
    "    notas = [100, 50, 10, 5, 1]\n",
    "    qtds = []\n",
    "\n",
    "    for nota in notas:\n",
    "        qtd = valor//nota\n",
    "        valor -= nota * qtd\n",
    "        qtds.append(qtd)\n",
    "\n",
    "    qtds = reversed(qtds)\n",
    "    \n",
    "    print_notas(valor_total, *qtds)\n",
    "\n",
    "def print_notas(total, notas1, notas5, notas10, notas50, notas100):\n",
    "    template = \"R$ {:>3}: {:>3} notas\"\n",
    "    print(\"- Valor do saque: R$ \" + str(total))\n",
    "    print(template.format(\"100\", notas100))\n",
    "    print(template.format(\"50\", notas50))\n",
    "    print(template.format(\"10\", notas10))\n",
    "    print(template.format(\"5\", notas5))\n",
    "    print(template.format(\"1\", notas1))\n",
    "    print()\n",
    "\n",
    "valor = int(input('Quanto deseja sacar? '))\n",
    "\n",
    "resposta1 = verifica_notas(valor)"
   ]
  },
  {
   "cell_type": "markdown",
   "metadata": {},
   "source": [
    "#### 11. Faça um programa que faça 5 perguntas para uma pessoa sobre um crime. As perguntas são:\n",
    "- \"Telefonou para a vítima?\"\n",
    "- \"Esteve no local do crime?\"\n",
    "- \"Mora perto da vítima?\"\n",
    "- \"Devia para a vítima?\"\n",
    "- \"Já trabalhou com a vítima?\"\n",
    "#### O programa deve no final emitir uma classificação sobre a participação da pessoa no crime. Se a pessoa responder positivamente a 2 questões ela deve ser classificada como \"Suspeita\", entre 3 e 4 como \"Cúmplice\" e 5 como \"Assassino\". Caso contrário, ele será classificado como \"Inocente\"."
   ]
  },
  {
   "cell_type": "code",
   "execution_count": 28,
   "metadata": {},
   "outputs": [
    {
     "name": "stdout",
     "output_type": "stream",
     "text": [
      "Telefonou para a vítima?sim\n",
      "Esteve no local do crime?sim\n",
      "Mora perto da vítima?sim\n",
      "Devia para a vítima?sim\n",
      "Já trabalhou com a vítima?sim\n",
      "Assassino\n"
     ]
    }
   ],
   "source": [
    "perguntas = [ \n",
    "    \"Telefonou para a vítima?\" ,\n",
    "    \"Esteve no local do crime?\" ,\n",
    "    \"Mora perto da vítima?\" ,\n",
    "    \"Devia para a vítima?\" ,\n",
    "    \"Já trabalhou com a vítima?\" \n",
    "]\n",
    "resposta = 0\n",
    "\n",
    "for qual in perguntas:\n",
    "    resposta += (input(qual) == \"sim\")\n",
    "  \n",
    "    if resposta == 5:\n",
    "        print(\"Assassino\")\n",
    "    elif resposta >=3:\n",
    "        print(\"Cúmplice\")\n",
    "    elif resposta ==2:\n",
    "        print(\"Suspeito\")\n",
    "    else:\n",
    "        print(\"Inocente\")"
   ]
  },
  {
   "cell_type": "markdown",
   "metadata": {},
   "source": [
    "#### 12. Uma fruteira está vendendo frutas com a seguinte tabela de preços:\n",
    "\n",
    "#### Se o cliente comprar mais de 8 Kg em frutas ou o valor total da compra ultrapassar RS 25,00, receberá ainda um desconto de 10% sobre este total. Escreva um algoritmo para ler a quantidade (em Kg) de morangos e a quantidade (em Kg) de maças adquiridas e escreva o valor a ser pago pelo cliente."
   ]
  },
  {
   "cell_type": "code",
   "execution_count": 35,
   "metadata": {},
   "outputs": [
    {
     "name": "stdout",
     "output_type": "stream",
     "text": [
      "Insira a quantidade (em Kg) de macas: 5\n",
      "Insira a quantidade (em Kg) de morangos: 5\n",
      "O valor total é de : R$19.35\n"
     ]
    }
   ],
   "source": [
    "kg_maca = float(input(\"Insira a quantidade (em Kg) de macas: \"))\n",
    "kg_morangos = float(input(\"Insira a quantidade (em Kg) de morangos: \"))\n",
    "valor_total = 0.0\n",
    "\n",
    "if kg_maca <= 5:\n",
    "    valor_total += kg_maca*1.80\n",
    "else:\n",
    "    valor_total += kg_maca*1.50\n",
    "    \n",
    "if kg_morangos <=5:\n",
    "    valor_total += kg_morangos*2.50\n",
    "else:\n",
    "    valor_total += kg_morangos*2.20\n",
    "    \n",
    "if (kg_maca + kg_morangos) > 8 or valor_total > 25:\n",
    "    valor_total -= valor_total*0.1\n",
    "\n",
    "print(\"O valor total é de : R$\" + str(valor_total))"
   ]
  },
  {
   "cell_type": "markdown",
   "metadata": {},
   "source": [
    "#### 13. Faça um programa que peça uma nota, entre zero e dez. Mostre uma mensagem caso o valor seja inválido e continue pedindo até que o usuário informe um valor válido."
   ]
  },
  {
   "cell_type": "code",
   "execution_count": 37,
   "metadata": {},
   "outputs": [
    {
     "name": "stdout",
     "output_type": "stream",
     "text": [
      "Insira uma nota de 0 a 10-1\n",
      "Insira uma nota de 0 a 10-2\n",
      "Insira uma nota de 0 a 10-3\n",
      "Insira uma nota de 0 a 10-1231312312312\n",
      "Insira uma nota de 0 a 101\n"
     ]
    }
   ],
   "source": [
    "nota = int(input(\"Insira uma nota de 0 a 10: \"))\n",
    "\n",
    "while nota < 0 or nota > 10:\n",
    "    nota = int(input(\"Insira uma nota de 0 a 10\"))"
   ]
  },
  {
   "cell_type": "markdown",
   "metadata": {},
   "source": [
    "#### 14. Faça um programa que leia e valide as seguintes informações:\n",
    "- Nome: maior que 3 caracteres;\n",
    "- Idade: entre 0 e 150;\n",
    "- Salário: maior que zero;\n",
    "- Sexo: 'f' ou 'm';\n",
    "- Estado Civil: 's', 'c', 'v', 'd';"
   ]
  },
  {
   "cell_type": "code",
   "execution_count": 1,
   "metadata": {},
   "outputs": [
    {
     "name": "stdout",
     "output_type": "stream",
     "text": [
      "Nome: (com mais de 3 letras)Gustavo\n",
      "Idade: (maio que 0)125\n",
      "Salário: (maior que 0) 12123\n",
      "Sexo: [m/f]m\n",
      "Estado Civil: [s/c/v/d]s\n"
     ]
    }
   ],
   "source": [
    "nome = ''\n",
    "idade = 0\n",
    "salario = 0\n",
    "sexo = ''\n",
    "estado_civil = ''\n",
    "\n",
    "while len(nome)<=3:\n",
    "    nome = input('Nome: (com mais de 3 letras)')\n",
    "\n",
    "while idade < 1 or idade > 150 :\n",
    "    idade = int(input(\"Idade: (maio que 0)\"))\n",
    "\n",
    "while salario <= 0:\n",
    "    salario = int(input('Salário: (maior que 0) '))\n",
    "\n",
    "while sexo != 'f'  and sexo != 'm':\n",
    "    sexo = input('Sexo: [m/f]')\n",
    "\n",
    "while estado_civil != 's' and estado_civil != 'c' and estado_civil != 'v' and estado_civil != 'd':\n",
    "    estado_civil = input('Estado Civil: [s/c/v/d]')"
   ]
  },
  {
   "cell_type": "markdown",
   "metadata": {},
   "source": [
    "#### 15. Faça um programa que leia 5 números e informe o maior número."
   ]
  },
  {
   "cell_type": "code",
   "execution_count": 2,
   "metadata": {},
   "outputs": [
    {
     "name": "stdout",
     "output_type": "stream",
     "text": [
      "Informe um numero: 5\n",
      "Informe um numero: 4\n",
      "Informe um numero: 3\n",
      "Informe um numero: 2\n",
      "Informe um numero: 6\n",
      "6\n"
     ]
    }
   ],
   "source": [
    "maior_num = -9999999999\n",
    "\n",
    "for i in range(5):\n",
    "    num = int(input(\"Informe um numero: \"))\n",
    "    if num > maior_num:\n",
    "        maior_num = num\n",
    "        \n",
    "print(maior_num)"
   ]
  },
  {
   "cell_type": "markdown",
   "metadata": {},
   "source": [
    "#### 16. Faça um programa que leia 5 números e informe a soma e a média dos números."
   ]
  },
  {
   "cell_type": "code",
   "execution_count": 3,
   "metadata": {},
   "outputs": [
    {
     "name": "stdout",
     "output_type": "stream",
     "text": [
      "Informe um numero: 5\n",
      "Informe um numero: 4\n",
      "Informe um numero: 3\n",
      "Informe um numero: 2\n",
      "Informe um numero: 1\n",
      "Soma: 15\n",
      "Media: 3.0\n"
     ]
    }
   ],
   "source": [
    "soma = 0\n",
    "media = 0\n",
    "\n",
    "for i in range(5):\n",
    "    num = int(input(\"Informe um numero: \"))\n",
    "    soma += num\n",
    "        \n",
    "print(\"Soma: \" + str(soma))\n",
    "print(\"Media: \" + str(soma/5))"
   ]
  },
  {
   "cell_type": "markdown",
   "metadata": {},
   "source": [
    "#### 17. Faça um programa que imprima na tela apenas os números ímpares entre 1 e 50."
   ]
  },
  {
   "cell_type": "code",
   "execution_count": 21,
   "metadata": {},
   "outputs": [
    {
     "name": "stdout",
     "output_type": "stream",
     "text": [
      "1, 3, 5, 7, 9, 11, 13, 15, 17, 19, 21, 23, 25, 27, 29, 31, 33, 35, 37, 39, 41, 43, 45, 47, 49, \n"
     ]
    }
   ],
   "source": [
    "mensagem = ''\n",
    "\n",
    "for i in range(1, 50):\n",
    "    if i % 2 != 0:\n",
    "        mensagem += str(i) + \", \"\n",
    "\n",
    "print(mensagem)"
   ]
  },
  {
   "cell_type": "markdown",
   "metadata": {},
   "source": [
    "#### 18. Desenvolva um gerador de tabuada, capaz de gerar a tabuada de qualquer número inteiro entre 1 a 10. O usuário deve informar de qual numero ele deseja ver a tabuada. A saída deve ser conforme o exemplo abaixo:"
   ]
  },
  {
   "cell_type": "code",
   "execution_count": 30,
   "metadata": {},
   "outputs": [
    {
     "name": "stdout",
     "output_type": "stream",
     "text": [
      "Insira um numero de 1 a 10: 8\n",
      "8 x 1 = 8\n",
      "8 x 2 = 16\n",
      "8 x 3 = 24\n",
      "8 x 4 = 32\n",
      "8 x 5 = 40\n",
      "8 x 6 = 48\n",
      "8 x 7 = 56\n",
      "8 x 8 = 64\n",
      "8 x 9 = 72\n",
      "8 x 10 = 80\n"
     ]
    }
   ],
   "source": [
    "num = int(input(\"Insira um numero de 1 a 10: \"))\n",
    "\n",
    "for i in range(10):\n",
    "    print(str(num) + \" x \" + str(i+1) + \" = \" + str(num*(i+1)))"
   ]
  },
  {
   "cell_type": "markdown",
   "metadata": {},
   "source": [
    "#### 19. A série de Fibonacci é formada pela seqüência 1,1,2,3,5,8,13,21,34,55,... Faça um programa capaz de gerar a série até o n−ésimo termo"
   ]
  },
  {
   "cell_type": "code",
   "execution_count": 1,
   "metadata": {},
   "outputs": [
    {
     "name": "stdout",
     "output_type": "stream",
     "text": [
      "Entre com um número: 50\n",
      "[1, 1, 2, 3, 5, 8, 13, 21, 34, 55, 89, 144, 233, 377, 610, 987, 1597, 2584, 4181, 6765, 10946, 17711, 28657, 46368, 75025, 121393, 196418, 317811, 514229, 832040, 1346269, 2178309, 3524578, 5702887, 9227465, 14930352, 24157817, 39088169, 63245986, 102334155, 165580141, 267914296, 433494437, 701408733, 1134903170, 1836311903, 2971215073, 4807526976, 7778742049, 12586269025]\n"
     ]
    }
   ],
   "source": [
    "fibo = [1,1]\n",
    "i = 0\n",
    "num = int(input(\"Entre com um número: \"))\n",
    "\n",
    "while num > len(fibo):\n",
    "\tfibo.append(fibo[i] + fibo[i+1])\n",
    "\ti+=1\n",
    "\n",
    "print (fibo)"
   ]
  },
  {
   "cell_type": "markdown",
   "metadata": {},
   "source": [
    "#### 20. Faça um programa que calcule o fatorial de um número inteiro fornecido pelo usuário. Ex.: 5!=5.4.3.2.1=120"
   ]
  },
  {
   "cell_type": "code",
   "execution_count": null,
   "metadata": {},
   "outputs": [],
   "source": [
    "numero = int(input(\"Digite um número: \"))\n",
    "c = numero\n",
    "\n",
    "while c != 1:\n",
    "    c -= 1\n",
    "    numero = numero*c \n",
    "    ax = numero\n",
    "\n",
    "print(numero)"
   ]
  },
  {
   "cell_type": "markdown",
   "metadata": {},
   "source": [
    "#### 21. O Sr. Manoel Joaquim possui uma grande loja de artigos de RS 1,99, com cerca de 10 caixas. Para agilizar o cálculo de quanto cada cliente deve pagar ele desenvolveu um tabela que contém o número de itens que o cliente comprou e ao lado o valor da conta. Desta forma a atendente do caixa precisa apenas contar quantos itens o cliente está levando e olhar na tabela de preços. Você foi contratado para desenvolver o programa que monta esta tabela de preços, que conterá os preços de 1 até 50 produtos, conforme o exemplo abaixo:"
   ]
  },
  {
   "cell_type": "code",
   "execution_count": 12,
   "metadata": {},
   "outputs": [
    {
     "name": "stdout",
     "output_type": "stream",
     "text": [
      "Lojas Quase Dois - Tabela de preços\n",
      "1 - R$ 1.99\n",
      "2 - R$ 3.98\n",
      "3 - R$ 5.97\n",
      "4 - R$ 7.96\n",
      "5 - R$ 9.95\n",
      "6 - R$ 11.94\n",
      "7 - R$ 13.93\n",
      "8 - R$ 15.92\n",
      "9 - R$ 17.91\n",
      "10 - R$ 19.90\n",
      "11 - R$ 21.89\n",
      "12 - R$ 23.88\n",
      "13 - R$ 25.87\n",
      "14 - R$ 27.86\n",
      "15 - R$ 29.85\n",
      "16 - R$ 31.84\n",
      "17 - R$ 33.83\n",
      "18 - R$ 35.82\n",
      "19 - R$ 37.81\n",
      "20 - R$ 39.80\n",
      "21 - R$ 41.79\n",
      "22 - R$ 43.78\n",
      "23 - R$ 45.77\n",
      "24 - R$ 47.76\n",
      "25 - R$ 49.75\n",
      "26 - R$ 51.74\n",
      "27 - R$ 53.73\n",
      "28 - R$ 55.72\n",
      "29 - R$ 57.71\n",
      "30 - R$ 59.70\n",
      "31 - R$ 61.69\n",
      "32 - R$ 63.68\n",
      "33 - R$ 65.67\n",
      "34 - R$ 67.66\n",
      "35 - R$ 69.65\n",
      "36 - R$ 71.64\n",
      "37 - R$ 73.63\n",
      "38 - R$ 75.62\n",
      "39 - R$ 77.61\n",
      "40 - R$ 79.60\n",
      "41 - R$ 81.59\n",
      "42 - R$ 83.58\n",
      "43 - R$ 85.57\n",
      "44 - R$ 87.56\n",
      "45 - R$ 89.55\n",
      "46 - R$ 91.54\n",
      "47 - R$ 93.53\n",
      "48 - R$ 95.52\n",
      "49 - R$ 97.51\n",
      "50 - R$ 99.50\n",
      "\n"
     ]
    }
   ],
   "source": [
    "titulo = \"Lojas Quase Dois - Tabela de preços\"\n",
    "preco = 1.99\n",
    "mensagem = \"\"\n",
    "\n",
    "for i in range(50):\n",
    "    mensagem += str(i+1) + \" - R$ \" + str(\"{0:.2f}\".format(preco)) + \"\\n\"\n",
    "    preco += 1.99\n",
    "    \n",
    "print(titulo)\n",
    "print(mensagem)"
   ]
  },
  {
   "cell_type": "markdown",
   "metadata": {},
   "source": [
    "#### 22. O Sr. Manoel Joaquim acaba de adquirir uma panificadora e pretende implantar a metodologia da tabelinha, que já é um sucesso na sua loja de 1,99. Você foi contratado para desenvolver o programa que monta a tabela de preços de pães, de 1 até 50 pães, a partir do preço do pão informado pelo usuário, conforme o exemplo abaixo:"
   ]
  },
  {
   "cell_type": "code",
   "execution_count": 13,
   "metadata": {},
   "outputs": [
    {
     "name": "stdout",
     "output_type": "stream",
     "text": [
      "Preco do pao: R$ 0.18\n",
      "Panificadora Pão de Ontem - Tabela de preços\n",
      "1 - R$ 0.18\n",
      "2 - R$ 0.36\n",
      "3 - R$ 0.54\n",
      "4 - R$ 0.72\n",
      "5 - R$ 0.90\n",
      "6 - R$ 1.08\n",
      "7 - R$ 1.26\n",
      "8 - R$ 1.44\n",
      "9 - R$ 1.62\n",
      "10 - R$ 1.80\n",
      "11 - R$ 1.98\n",
      "12 - R$ 2.16\n",
      "13 - R$ 2.34\n",
      "14 - R$ 2.52\n",
      "15 - R$ 2.70\n",
      "16 - R$ 2.88\n",
      "17 - R$ 3.06\n",
      "18 - R$ 3.24\n",
      "19 - R$ 3.42\n",
      "20 - R$ 3.60\n",
      "21 - R$ 3.78\n",
      "22 - R$ 3.96\n",
      "23 - R$ 4.14\n",
      "24 - R$ 4.32\n",
      "25 - R$ 4.50\n",
      "26 - R$ 4.68\n",
      "27 - R$ 4.86\n",
      "28 - R$ 5.04\n",
      "29 - R$ 5.22\n",
      "30 - R$ 5.40\n",
      "31 - R$ 5.58\n",
      "32 - R$ 5.76\n",
      "33 - R$ 5.94\n",
      "34 - R$ 6.12\n",
      "35 - R$ 6.30\n",
      "36 - R$ 6.48\n",
      "37 - R$ 6.66\n",
      "38 - R$ 6.84\n",
      "39 - R$ 7.02\n",
      "40 - R$ 7.20\n",
      "41 - R$ 7.38\n",
      "42 - R$ 7.56\n",
      "43 - R$ 7.74\n",
      "44 - R$ 7.92\n",
      "45 - R$ 8.10\n",
      "46 - R$ 8.28\n",
      "47 - R$ 8.46\n",
      "48 - R$ 8.64\n",
      "49 - R$ 8.82\n",
      "50 - R$ 9.00\n",
      "\n"
     ]
    }
   ],
   "source": [
    "titulo = \"Panificadora Pão de Ontem - Tabela de preços\"\n",
    "preco = float(input(\"Preco do pao: R$ \"))\n",
    "aux = preco\n",
    "mensagem = \"\"\n",
    "\n",
    "for i in range(50):\n",
    "    mensagem += str(i+1) + \" - R$ \" + str(\"{0:.2f}\".format(preco)) + \"\\n\"\n",
    "    preco += aux \n",
    "    \n",
    "print(titulo)\n",
    "print(mensagem)"
   ]
  },
  {
   "cell_type": "markdown",
   "metadata": {},
   "source": [
    "#### 23.O Sr. Manoel Joaquim expandiu seus negócios para além dos negócios de 1,99 e agora possui uma loja de conveniências. Faça um programa que implemente uma caixa registradora rudimentar. O programa deverá receber um número desconhecido de valores referentes aos preços das mercadorias. Um valor zero deve ser informado pelo operador para indicar o final da compra. O programa deve então mostrar o total da compra e perguntar o valor em dinheiro que o cliente forneceu, para então calcular e mostrar o valor do troco. Após esta operação, o programa deverá voltar ao ponto inicial, para registrar a próxima compra. A saída deve ser conforme o exemplo abaixo: "
   ]
  },
  {
   "cell_type": "code",
   "execution_count": null,
   "metadata": {},
   "outputs": [
    {
     "name": "stdout",
     "output_type": "stream",
     "text": [
      "Insira um valor de produto de cada vez (0 para finalizar compra)\n",
      "Valor do produto: 15\n",
      "Valor do produto: 0\n",
      "\n",
      "--> Lojas Tabajara <--\n",
      "Produto 1: R$ 15.00\n",
      "\n",
      "Total: R$ 15.0\n",
      "Dinheiro: R$20\n",
      "Troco: R$ 5.0\n",
      "\n",
      "\n",
      "Insira um valor de produto de cada vez (0 para finalizar compra)\n"
     ]
    }
   ],
   "source": [
    "while True:\n",
    "    print(\"Insira um valor de produto de cada vez (0 para finalizar compra)\")\n",
    "    valor = float(input(\"Valor do produto: \"))\n",
    "    total = 0\n",
    "    titulo = \"\\n--> Lojas Tabajara <--\"\n",
    "    mensagem = ''\n",
    "    troco = 0\n",
    "    i = 1\n",
    "\n",
    "    while valor != 0:\n",
    "        if valor != 0:\n",
    "            total += valor\n",
    "            mensagem += \"Produto \" + str(i) + \": R$ \" + str(\"{0:.2f}\".format(valor)) + \"\\n\"\n",
    "            valor = float(input(\"Valor do produto: \"))\n",
    "            i += 1\n",
    "\n",
    "    mensagem += \"\\nTotal: R$ \" + str(total)\n",
    "\n",
    "    print(titulo)\n",
    "    print(mensagem)\n",
    "\n",
    "    dinheiro = float(input(\"Dinheiro: R$\"))\n",
    "\n",
    "    if dinheiro > total:\n",
    "        troco = dinheiro - total\n",
    "\n",
    "    print(\"Troco: R$ \" + str(troco) + \"\\n\\n\")"
   ]
  },
  {
   "cell_type": "markdown",
   "metadata": {},
   "source": [
    "#### 24. Foi feita uma estatística em cinco cidades brasileiras para coletar dados sobre acidentes de trânsito. \n",
    "#### Foram obtidos os seguintes dados:\n",
    "- Código da cidade;\n",
    "- Número de veículos de passeio (em 1999);\n",
    "- Número de acidentes de trânsito com vítimas (em 1999). Deseja-se saber:\n",
    "- Qual o maior e menor índice de acidentes de transito e a que cidade pertence;\n",
    "- Qual a média de veículos nas cinco cidades juntas;\n",
    "- Qual a média de acidentes de trânsito nas cidades com menos de 2.000 veículos de passeio."
   ]
  },
  {
   "cell_type": "code",
   "execution_count": 2,
   "metadata": {},
   "outputs": [
    {
     "name": "stdout",
     "output_type": "stream",
     "text": [
      "\n",
      "Digite o nome da cidade.....................: São Paulo\n",
      "Digite o código da cidade...................: 5\n",
      "Numero de veiculos de passeio...............: 4\n",
      "Numero de acidentes de transito com vitimas.: 3\n",
      "\n",
      "Digite o nome da cidade.....................: BH\n",
      "Digite o código da cidade...................: 3\n",
      "Numero de veiculos de passeio...............: 4\n",
      "Numero de acidentes de transito com vitimas.: 2\n",
      "\n",
      "Digite o nome da cidade.....................: FA\n",
      "Digite o código da cidade...................: 5\n",
      "Numero de veiculos de passeio...............: 1\n",
      "Numero de acidentes de transito com vitimas.: 2\n",
      "\n",
      "Digite o nome da cidade.....................: AA\n",
      "Digite o código da cidade...................: 12\n",
      "Numero de veiculos de passeio...............: 3\n",
      "Numero de acidentes de transito com vitimas.: 1\n",
      "\n",
      "Digite o nome da cidade.....................: BB\n",
      "Digite o código da cidade...................: 5\n",
      "Numero de veiculos de passeio...............: 1\n",
      "Numero de acidentes de transito com vitimas.: 4\n",
      "\n",
      "-=-=-=-=-=-=-=-=-=-=-=-=-=-=-=-=-=-=-=-=-=-=-=-=-=-=-=-=-=-=\n",
      "O menor indice de acidentes de transito 1 cidade que pertence AA\n",
      "O maior indice de acidenstes de transito 4 cidade que pertence BB\n",
      "Media de veiculos nas cincos cidades 2.6\n",
      "Media de acidentes de transitos nas cidades com menos de 2000 é 2.4\n"
     ]
    }
   ],
   "source": [
    "# Definindo as variáveis\n",
    "maior = menor = count = soma_veiculos = soma_acidentes = soma_2k = 0\n",
    "cid_maior = cid_menor = ''\n",
    "\n",
    "# Laço para que o usuário digite os dados das 5 cidades \n",
    "for c in range(1,6):\n",
    "    cidade      = str(input(\"\\nDigite o nome da cidade.....................: \"))\n",
    "    codigo      = int(input(\"Digite o código da cidade...................: \"))\n",
    "    veiculos    = int(input(\"Numero de veiculos de passeio...............: \"))\n",
    "    acidentes   = int(input(\"Numero de acidentes de transito com vitimas.: \"))\n",
    "\n",
    "    soma_veiculos += veiculos\n",
    "    soma_acidentes += acidentes\n",
    "\n",
    "    if acidentes > maior:\n",
    "        maior = acidentes\n",
    "        cid_maior = cidade\n",
    "\n",
    "    if acidentes < menor or c == 1:\n",
    "        menor = acidentes\n",
    "        cid_menor = cidade\n",
    "\n",
    "    if veiculos < 2000:\n",
    "        soma_2k += acidentes\n",
    "        count += 1\n",
    "\n",
    "# Calculando a média das 5 cidades\n",
    "media_nas_5_cidades = soma_veiculos / c\n",
    "media_2k = soma_2k / count\n",
    "\n",
    "# Exibindo os resultados\n",
    "print(\"\\n\"+\"-=\"*30)\n",
    "print(f\"O menor indice de acidentes de transito {menor} cidade que pertence {cid_menor}\")\n",
    "print(f\"O maior indice de acidenstes de transito {maior} cidade que pertence {cid_maior}\")\n",
    "print(f\"Media de veiculos nas cincos cidades {media_nas_5_cidades}\")\n",
    "print(f\"Media de acidentes de transitos nas cidades com menos de 2000 é {media_2k}\") "
   ]
  },
  {
   "cell_type": "markdown",
   "metadata": {},
   "source": [
    "#### 25. Faça um programa que receba o valor de uma dívida e mostre uma tabela com os seguintes dados: valor da dívida, valor dos juros, quantidade de parcelas e valor da parcela. Os juros e a quantidade de parcelas seguem a tabela abaixo: Quantidade de Parcelas % de Juros sobre o valor inicial da dívida"
   ]
  },
  {
   "cell_type": "code",
   "execution_count": null,
   "metadata": {},
   "outputs": [],
   "source": []
  },
  {
   "cell_type": "markdown",
   "metadata": {},
   "source": [
    "#### 26. Faça um programa que mostre os n termos da Série a seguir: <br>S = 1/1 + 2/3 + 3/5 + 4/7 + 5/9 + ... + n/m. <br>Imprima no final a soma da série."
   ]
  },
  {
   "cell_type": "code",
   "execution_count": 6,
   "metadata": {},
   "outputs": [
    {
     "name": "stdout",
     "output_type": "stream",
     "text": [
      "S = 1 / 1 + 2 / 3 + 3 / 5 + 4 / 7 + 5 / 9 + 6 / 11 + 7 / 13 + 8 / 15 + 9 / 17 + 10 / 19  =  45 / 81\n"
     ]
    }
   ],
   "source": [
    "n1 = 1\n",
    "n2 = 1\n",
    "n1_lista = []\n",
    "n2_lista = []\n",
    "print(\"S = \", end = \"\")\n",
    "while n1 <= 10 -1:\n",
    "    print(n1, \"/\", n2, \"+ \", end=\"\")\n",
    "    n1_lista.append(n1)\n",
    "    n2_lista.append(n2)\n",
    "    n1 += 1\n",
    "    n2 += 2\n",
    "\n",
    "print(n1, \"/\", n2, \" = \", sum(n1_lista), \"/\", sum(n2_lista))"
   ]
  }
 ],
 "metadata": {
  "kernelspec": {
   "display_name": "Python 3",
   "language": "python",
   "name": "python3"
  },
  "language_info": {
   "codemirror_mode": {
    "name": "ipython",
    "version": 3
   },
   "file_extension": ".py",
   "mimetype": "text/x-python",
   "name": "python",
   "nbconvert_exporter": "python",
   "pygments_lexer": "ipython3",
   "version": "3.6.7"
  }
 },
 "nbformat": 4,
 "nbformat_minor": 2
}
