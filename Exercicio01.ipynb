{
 "cells": [
  {
   "cell_type": "markdown",
   "metadata": {},
   "source": [
    "# Exercício Prático 1"
   ]
  },
  {
   "cell_type": "markdown",
   "metadata": {},
   "source": [
    "### Números e Operações Aritméticas"
   ]
  },
  {
   "cell_type": "markdown",
   "metadata": {
    "collapsed": true
   },
   "source": [
    "1 - Faça um Programa que peça o raio de um círculo, calcule e mostre sua área."
   ]
  },
  {
   "cell_type": "code",
   "execution_count": 5,
   "metadata": {},
   "outputs": [
    {
     "name": "stdout",
     "output_type": "stream",
     "text": [
      "Raio do circulo: 10\n",
      "Área: 314.0\n"
     ]
    }
   ],
   "source": [
    "# A = πr^2\n",
    "raio = input('Raio do circulo: ')\n",
    "raio = float(raio)\n",
    "pi = 3.14\n",
    "area = pi * raio ** 2\n",
    "print(f'Área: {area}')"
   ]
  },
  {
   "cell_type": "markdown",
   "metadata": {},
   "source": [
    "2 - Faça um Programa que calcule a área de um quadrado, em seguida mostre o dobro\n",
    "desta área para o usuário."
   ]
  },
  {
   "cell_type": "code",
   "execution_count": 6,
   "metadata": {},
   "outputs": [
    {
     "name": "stdout",
     "output_type": "stream",
     "text": [
      "Medida do lado do quadrado: 2\n",
      "Área: 4.0\n",
      "Dobro da área: 8.0\n"
     ]
    }
   ],
   "source": [
    "# A = L^2\n",
    "lado = float(input('Medida do lado do quadrado: '))\n",
    "area = lado ** 2\n",
    "dobro_area = area * 2\n",
    "print(f'Área: {area}\\n'\n",
    "      f'Dobro da área: {dobro_area}')"
   ]
  },
  {
   "cell_type": "markdown",
   "metadata": {},
   "source": [
    "3 - Faça um Programa que pergunte quanto você ganha por hora e o número de horas\n",
    "trabalhadas no mês. Calcule e mostre o total do seu salário no referido mês."
   ]
  },
  {
   "cell_type": "code",
   "execution_count": 8,
   "metadata": {},
   "outputs": [
    {
     "name": "stdout",
     "output_type": "stream",
     "text": [
      "Quanto você ganha por hora?\n",
      "20\n",
      "Quantas horas você trabalha por mês?\n",
      "100\n",
      "Salário total no mês referido: 2000.0\n"
     ]
    }
   ],
   "source": [
    "valor_hora = float(input('Quanto você ganha por hora?\\n'))\n",
    "horas_mes = float(input('Quantas horas você trabalha por mês?\\n'))\n",
    "total_mes = valor_hora * horas_mes\n",
    "print(f'Salário total no mês referido: {total_mes}')"
   ]
  },
  {
   "cell_type": "markdown",
   "metadata": {},
   "source": [
    "4 - Faça um Programa que peça a temperatura em graus Farenheit, transforme e\n",
    "mostre a temperatura em graus Celsius. C = (5 * (F-32) / 9)."
   ]
  },
  {
   "cell_type": "code",
   "execution_count": 11,
   "metadata": {},
   "outputs": [
    {
     "name": "stdout",
     "output_type": "stream",
     "text": [
      "Temperatura em graus Farenheit: 73\n",
      "Temperatura em graus Celsius: 22.78\n"
     ]
    }
   ],
   "source": [
    "temp_farenheit = float(input('Temperatura em graus Farenheit: '))\n",
    "temp_celsius = (5 * (temp_farenheit - 32) / 9)\n",
    "temp_celsius = round(temp_celsius, 2)\n",
    "print(f'Temperatura em graus Celsius: {temp_celsius}')"
   ]
  },
  {
   "cell_type": "markdown",
   "metadata": {},
   "source": [
    "5 - Faça um Programa que peça a temperatura em graus Celsius, transforme e mostre\n",
    "em graus Farenheit."
   ]
  },
  {
   "cell_type": "code",
   "execution_count": 14,
   "metadata": {},
   "outputs": [
    {
     "name": "stdout",
     "output_type": "stream",
     "text": [
      "Temperatura em graus Celsius: 14\n",
      "Temperatura em graus Farenheit: 57.2\n"
     ]
    }
   ],
   "source": [
    "# F = C × 9/5 + 32\n",
    "temp_celsius = float(input('Temperatura em graus Celsius: '))\n",
    "temp_farenheit = temp_celsius * 9/5 + 32\n",
    "print(f'Temperatura em graus Farenheit: {temp_farenheit}')"
   ]
  },
  {
   "cell_type": "markdown",
   "metadata": {},
   "source": [
    "6 - Faça um Programa que peça 2 números inteiros e um número real. Calcule e\n",
    "mostre:\n",
    "- o produto do dobro do primeiro com metade do segundo .\n",
    "- a soma do triplo do primeiro com o terceiro.\n",
    "- o terceiro elevado ao cubo."
   ]
  },
  {
   "cell_type": "code",
   "execution_count": 25,
   "metadata": {},
   "outputs": [
    {
     "name": "stdout",
     "output_type": "stream",
     "text": [
      "Primeiro inteiro: 1\n",
      "Segundo inteiro: 2\n",
      "Número real: 3\n",
      "Produto do dobro do primeiro com metade do segundo: 2.0\n",
      "Soma do triplo do primeiro com o terceiro: 6.0\n",
      "Terceiro elevado ao cubo: 27.0\n"
     ]
    }
   ],
   "source": [
    "pri_num = int(input('Primeiro inteiro: '))\n",
    "seg_num = int(input('Segundo inteiro: '))\n",
    "ter_num = float(input('Número real: '))\n",
    "\n",
    "pri_exercicio = pri_num * 2 * seg_num / 2\n",
    "seg_exercicio = pri_num * 3 + ter_num\n",
    "ter_exercicio = ter_num ** 3\n",
    "\n",
    "print(f'Produto do dobro do primeiro com metade do segundo: {pri_exercicio}\\n'\n",
    "      f'Soma do triplo do primeiro com o terceiro: {seg_exercicio}\\n'\n",
    "      f'Terceiro elevado ao cubo: {ter_exercicio}')"
   ]
  },
  {
   "cell_type": "markdown",
   "metadata": {},
   "source": [
    "7 - João Papo-de-Pescador, homem de bem, comprou um microcomputador para\n",
    "controlar o rendimento diário de seu trabalho. Toda vez que ele traz um peso de\n",
    "peixes maior que o estabelecido pelo regulamento de pesca do estado de São Paulo\n",
    "(50 quilos) deve pagar uma multa de R$ 4,00 por quilo excedente. João precisa que\n",
    "você faça um programa que leia a variável peso (peso de peixes) e verifique se há excesso. Se houver, gravar na variável excesso e na variável multa o valor da multa\n",
    "que João deverá pagar. Caso contrário mostrar tais variáveis com o conteúdo ZERO."
   ]
  },
  {
   "cell_type": "code",
   "execution_count": 32,
   "metadata": {},
   "outputs": [
    {
     "name": "stdout",
     "output_type": "stream",
     "text": [
      "Peso: 51\n",
      "Excesso: 1.0\n",
      "Multa: 4.0\n"
     ]
    }
   ],
   "source": [
    "peso = float(input('Peso: '))\n",
    "excesso = 0\n",
    "multa = 0\n",
    "valor_quilo_multa = 4\n",
    "peso_regulamento_sp = 50\n",
    "\n",
    "if peso > peso_regulamento_sp:\n",
    "    excesso = peso - peso_regulamento_sp\n",
    "    multa = excesso * valor_quilo_multa\n",
    "\n",
    "print(f'Excesso: {excesso}\\n'\n",
    "      f'Multa: {multa}')"
   ]
  },
  {
   "cell_type": "markdown",
   "metadata": {},
   "source": [
    "8 - Faça um Programa que pergunte quanto você ganha por hora e o número de horas\n",
    "trabalhadas no mês. Calcule e mostre o total do seu salário no referido mês,\n",
    "sabendo-se que são descontados 11% para o Imposto de Renda, 8% para o INSS e 5%\n",
    "para o sindicato, faça um programa que nos dê:\n",
    "- salário bruto.\n",
    "- quanto pagou ao INSS.\n",
    "- quanto pagou ao sindicato.\n",
    "- o salário líquido.\n",
    "- calcule os descontos e o salário líquido, conforme a tabela abaixo:\n",
    "    - \\+ Salário Bruto : R\\$\n",
    "    - \\- IR (11%) : R\\$\n",
    "    - \\- INSS (8%) : R\\$\n",
    "    - \\- Sindicato (5%) : R\\$\n",
    "    - \\= Salário Liquido : R\\$\n",
    "\n",
    "Obs.: Salário Bruto - Descontos = Salário Líquido."
   ]
  },
  {
   "cell_type": "code",
   "execution_count": 35,
   "metadata": {},
   "outputs": [
    {
     "name": "stdout",
     "output_type": "stream",
     "text": [
      "Quanto você ganha por hora?\n",
      "20\n",
      "Quantas horas você trabalha por mês?\n",
      "100\n",
      "Salário bruto : 2000.0\n",
      "INSS: 160.0\n",
      "Sindicato: 100.0\n",
      "Salário Líquido: 1520.0\n"
     ]
    }
   ],
   "source": [
    "valor_hora = float(input('Quanto você ganha por hora?\\n'))\n",
    "horas_mes = float(input('Quantas horas você trabalha por mês?\\n'))\n",
    "\n",
    "valor_bruto_mes = valor_hora * horas_mes\n",
    "ir = valor_bruto_mes * 0.11\n",
    "inss = valor_bruto_mes * 0.08\n",
    "sindicato = valor_bruto_mes * 0.05\n",
    "descontos = ir + inss + sindicato\n",
    "salario_liquido = valor_bruto_mes - descontos\n",
    "\n",
    "print(f'Salário bruto : {valor_bruto_mes}\\n'\n",
    "      f'INSS: {inss}\\n'\n",
    "      f'Sindicato: {sindicato}\\n'\n",
    "      f'Salário Líquido: {salario_liquido}')"
   ]
  },
  {
   "cell_type": "markdown",
   "metadata": {},
   "source": [
    "### Strings"
   ]
  },
  {
   "cell_type": "markdown",
   "metadata": {},
   "source": [
    "9 - Faça um programa que leia 2 strings e informe o conteúdo delas seguido do seu\n",
    "comprimento. Informe também se as duas strings possuem o mesmo comprimento e\n",
    "são iguais ou diferentes no conteúdo.  \n",
    "Exemplo:  \n",
    "String 1: Brasil Hexa 2018  \n",
    "String 2: Brasil! Hexa 2018!  \n",
    "Tamanho de \"Brasil Hexa 2018\": 16 caracteres  \n",
    "Tamanho de \"Brasil! Hexa 2018!\": 18 caracteres  \n",
    "As duas strings são de tamanhos diferentes.  \n",
    "As duas strings possuem conteúdo diferente.  "
   ]
  },
  {
   "cell_type": "code",
   "execution_count": 37,
   "metadata": {},
   "outputs": [
    {
     "name": "stdout",
     "output_type": "stream",
     "text": [
      "String 1: asdf\n",
      "String 2: ASdf\n",
      "Tamanho de asdf: 4 caracteres\n",
      "Tamanho de ASdf: 4 caracteres\n",
      "As duas strings são de tamanhos iguais\n",
      "As duas strings possuem conteúdos diferentes\n"
     ]
    }
   ],
   "source": [
    "pri_str = input('String 1: ')\n",
    "seg_str = input('String 2: ')\n",
    "tam_pri_str = len(pri_str)\n",
    "tam_seg_str = len(seg_str)\n",
    "\n",
    "tam_dif = 'diferentes'\n",
    "cont_dif = 'diferentes'\n",
    "\n",
    "if tam_pri_str == tam_seg_str:\n",
    "    tam_dif = 'iguais'\n",
    "\n",
    "if pri_str == seg_str:\n",
    "    cont_dif = 'iguais'\n",
    "\n",
    "print(f'Tamanho de {pri_str}: {tam_pri_str} caracteres\\n'\n",
    "      f'Tamanho de {seg_str}: {tam_seg_str} caracteres\\n'\n",
    "      f'As duas strings são de tamanhos {tam_dif}\\n'\n",
    "      f'As duas strings possuem conteúdos {cont_dif}')"
   ]
  },
  {
   "cell_type": "markdown",
   "metadata": {},
   "source": [
    "10 - Faça um programa que permita ao usuário digitar o seu nome e em seguida\n",
    "mostre o nome do usuário de trás para frente utilizando somente letras maiúsculas.\n",
    "Dica: lembre−se que ao informar o nome o usuário pode digitar letras maiúsculas ou\n",
    "minúsculas. Observação: não use loops."
   ]
  },
  {
   "cell_type": "code",
   "execution_count": 39,
   "metadata": {},
   "outputs": [
    {
     "name": "stdout",
     "output_type": "stream",
     "text": [
      "Digite o seu nome\n",
      "Derik Oliveira\n",
      "Nome ao contrario: arievilo kired\n"
     ]
    }
   ],
   "source": [
    "nome = input('Digite o seu nome\\n')\n",
    "nome = nome.lower()\n",
    "nome_contrario = nome[::-1]\n",
    "print(f'Nome ao contrario: {nome_contrario}')"
   ]
  },
  {
   "cell_type": "markdown",
   "metadata": {},
   "source": [
    "11 - Faça um programa que solicite a data de nascimento (dd/mm/aaaa) do usuário e\n",
    "imprima a data com o nome do mês por extenso.\n",
    "Data de Nascimento: 29/10/1973  \n",
    "Você nasceu em 29 de Outubro de 1973.  \n",
    "Obs.: Não use desvio condicional nem loops."
   ]
  },
  {
   "cell_type": "code",
   "execution_count": 47,
   "metadata": {},
   "outputs": [
    {
     "name": "stdout",
     "output_type": "stream",
     "text": [
      "Digite sua data de nascimento dd/mm/aaaa\n",
      "28/06/1998\n",
      "28 de junho de 1998\n"
     ]
    }
   ],
   "source": [
    "import datetime, locale\n",
    "\n",
    "# utilizando formato br\n",
    "locale.setlocale(locale.LC_TIME, \"pt_BR.UTF-8\")\n",
    "\n",
    "data = input('Digite sua data de nascimento dd/mm/aaaa\\n')\n",
    "data_extenso = datetime.datetime.strptime(data, '%d/%m/%Y').strftime('%d de %B de %Y')\n",
    "print(data_extenso)"
   ]
  },
  {
   "cell_type": "markdown",
   "metadata": {},
   "source": [
    "12 - Leet é uma forma de se escrever o alfabeto latino usando outros símbolos em\n",
    "lugar das letras, como números por exemplo. A própria palavra leet admite muitas\n",
    "variações, como l33t ou 1337. O uso do leet reflete uma subcultura relacionada ao\n",
    "mundo dos jogos de computador e internet, sendo muito usada para confundir os\n",
    "iniciantes e afirmar-se como parte de um grupo. Pesquise sobre as principais formas\n",
    "de traduzir as letras. Depois, faça um programa que peça uma texto e transforme-o\n",
    "para a grafia leet speak.  \n",
    "  \n",
    "Desafio: não use loops nem desvios condicionais."
   ]
  },
  {
   "cell_type": "code",
   "execution_count": 51,
   "metadata": {},
   "outputs": [
    {
     "name": "stdout",
     "output_type": "stream",
     "text": [
      "Palavra: derik\n",
      "Nova palavra: d3r1k\n"
     ]
    }
   ],
   "source": [
    "palavra = input('Palavra: ').lower()\n",
    "\n",
    "nova_palavra = palavra.replace('a', '4').replace('e', '3').replace('i', '1').replace('o', '0').replace('t', '7')\n",
    "\n",
    "print(f'Nova palavra: {nova_palavra}')"
   ]
  }
 ],
 "metadata": {
  "kernelspec": {
   "display_name": "Python 3",
   "language": "python",
   "name": "python3"
  },
  "language_info": {
   "codemirror_mode": {
    "name": "ipython",
    "version": 3
   },
   "file_extension": ".py",
   "mimetype": "text/x-python",
   "name": "python",
   "nbconvert_exporter": "python",
   "pygments_lexer": "ipython3",
   "version": "3.6.7"
  }
 },
 "nbformat": 4,
 "nbformat_minor": 1
}
